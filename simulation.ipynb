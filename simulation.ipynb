{
 "cells": [
  {
   "cell_type": "code",
   "execution_count": 5,
   "metadata": {},
   "outputs": [],
   "source": [
    "%matplotlib inline \n",
    "from numpy import *\n",
    "import numpy as np \n",
    "import scipy\n",
    "from pylab import* \n",
    "import pylab as pylab\n",
    "\n"
   ]
  },
  {
   "attachments": {},
   "cell_type": "markdown",
   "metadata": {},
   "source": [
    "Les données"
   ]
  },
  {
   "cell_type": "code",
   "execution_count": 58,
   "metadata": {},
   "outputs": [],
   "source": [
    "nb_stations = 5\n",
    "nb_velos = 50\n",
    "\n",
    "# Table des temps moyens de trajets (convertis en heures)\n",
    "Tps_trajets = 1/60 * np.array([[0, 3, 5, 7, 7],\n",
    "                               [2, 0, 2, 5, 5],\n",
    "                               [4, 2, 0, 3, 3], \n",
    "                               [8, 6, 4, 0, 2], \n",
    "                               [7, 7, 5, 2, 0]])\n",
    "\n",
    "# Table des taux de départs par heures\n",
    "Taux_dep = [2.8, 3.7, 5.5, 3.5, 4.6]\n",
    "\n",
    "# Matrice de routage\n",
    "P = np.array([[0, 0.22, 0.32, 0.2, 0.25],\n",
    "              [0.17, 0, 0.34, 0.21, 0.28],\n",
    "              [0.19, 0.26, 0, 0.24, 0.31],\n",
    "              [0.17, 0.22, 0.33, 0, 0.28],\n",
    "              [0.18, 0.24, 0.35, 0.23, 0]])\n"
   ]
  },
  {
   "attachments": {},
   "cell_type": "markdown",
   "metadata": {},
   "source": [
    "Les colonnies : une pour chaque stations + une pour chaque trajet possible = nb_stations + nb_stations*(nb_stations-1) = nb_stations\n",
    "\n",
    "On note :\n",
    "\n",
    "- n_ii : nombre de vélos dans la station n°i\n",
    "- n_ij : nombre de vélos effectuant le trajet de la station n°i à station n°j\n",
    "\n",
    "Transitions possibles : \n",
    "\n",
    "- une arrivée de vélo depuis la station n°i vers la station n°j \n",
    "  \n",
    "    n --> n - e_ij + e_jj avec taux $\\frac{1}{T_{trajets}\\{i,j\\}} n_{ij} $ (pour i différent de j)\n",
    "\n",
    "- un départ de vélo depuis la station n°i vers la station n°j\n",
    "\n",
    "    n --> n - e_ii + e_ij avec taux  $P_{ij} * Taux de départ_i * n_{ii}$ \n"
   ]
  },
  {
   "cell_type": "code",
   "execution_count": 59,
   "metadata": {},
   "outputs": [
    {
     "name": "stdout",
     "output_type": "stream",
     "text": [
      "[[0.    0.616 0.896 0.56  0.7  ]\n",
      " [0.629 0.    1.258 0.777 1.036]\n",
      " [1.045 1.43  0.    1.32  1.705]\n",
      " [0.595 0.77  1.155 0.    0.98 ]\n",
      " [0.828 1.104 1.61  1.058 0.   ]]\n"
     ]
    },
    {
     "name": "stderr",
     "output_type": "stream",
     "text": [
      "/var/folders/hq/nz6rv6b136j0sk_knhths__w0000gn/T/ipykernel_53475/4218666887.py:2: RuntimeWarning: divide by zero encountered in true_divide\n",
      "  Ta = 1/Tps_trajets\n"
     ]
    }
   ],
   "source": [
    "# Matrice des taux de type arrivée (1/Tps_trajets_ij)\n",
    "Ta = 1/Tps_trajets\n",
    "np.fill_diagonal(Ta, 0)\n",
    "\n",
    "\n",
    "# Matrice des taux de type départ (P_ij * Taux de départ_i)\n",
    "Td = np.multiply(Taux_dep, P.T).T\n",
    "\n",
    "print(Td)\n",
    "\n"
   ]
  },
  {
   "cell_type": "code",
   "execution_count": 71,
   "metadata": {},
   "outputs": [
    {
     "name": "stdout",
     "output_type": "stream",
     "text": [
      "0.06\n",
      "[0.         0.05557752 0.08892404 0.11274297 0.13656191 0.21992819\n",
      " 0.21992819 0.30329448 0.33664099 0.3699875  0.41167064 0.49503693\n",
      " 0.49503693 0.55061445 0.60619197 0.62703354 0.6548223  0.69650544\n",
      " 0.69650544 0.77987173 0.80369067 0.8275096  0.86085612 0.9442224\n",
      " 0.9442224  0.9442224  0.94593419 0.94842406 0.94998023 0.95192544\n",
      " 0.95367336 0.95367336 0.95716918 0.95932837 0.96220729 0.96511121\n",
      " 0.969085   0.969085   0.97275312 0.9774911  0.97914453 0.98128427\n",
      " 0.98449387 0.98449387 0.98721717 0.98951808 0.99258596 0.99705995\n",
      " 1.         1.        ]\n",
      "2\n",
      "('Arrivée', 0, 2)\n"
     ]
    }
   ],
   "source": [
    "Ntest = np.full((nb_stations,nb_stations), int(nb_velos/(nb_stations**2)))\n",
    "\n",
    "def transition(N):\n",
    "    #\n",
    "    A_arrivee = np.multiply(Ta, N).flatten()\n",
    "    A_depart = (np.multiply(np.diag(N), Td.T).T).flatten()\n",
    "\n",
    "    A_tot = np.concatenate([A_arrivee, A_depart])\n",
    "\n",
    "    r = np.cumsum(A_tot)/np.sum(A_tot)\n",
    "\n",
    "    u = 0.06 #rand()\n",
    "    w = 0\n",
    "\n",
    "    while u > r[w]:\n",
    "        w+=1\n",
    "\n",
    "    print(u)\n",
    "    print(r)\n",
    "    print(w)\n",
    "    # Transition de type arrivée de station n°i vers n°j\n",
    "    if w < nb_stations**2 :\n",
    "        i, j = w//nb_stations, w%nb_stations\n",
    "        N[i,j] -= 1\n",
    "        N[j,j] += 1\n",
    "            \n",
    "    # Transition de type départ de station n°i vers n°j\n",
    "    else : \n",
    "        w -= nb_stations**2\n",
    "        i, j = w//nb_stations, w%nb_stations\n",
    "        N[i,i] -= 1\n",
    "        N[i,j] += 1\n",
    "        \n",
    "    return\n",
    "\n",
    "print(transition(Ntest))\n",
    "\n",
    "\n",
    "\n",
    "# Paramètre de la loi expo du temps de séjour en un état n\n",
    "def A(N):\n",
    "    A_N = 0\n",
    "    for i in range(nb_stations):\n",
    "        for j in range(i+1, nb_stations):\n",
    "            A_N += N[i,j]/Tps_trajets[i,j] + N[j,i]/Tps_trajets[j,i] + P[i,j] * N[i,i]*P[i,j]*Taux_dep[i] + N[j,j]*P[j,i]*Taux_dep[j]\n",
    "    return A_N"
   ]
  },
  {
   "cell_type": "code",
   "execution_count": 39,
   "metadata": {},
   "outputs": [
    {
     "name": "stdout",
     "output_type": "stream",
     "text": [
      "705.4393485714286\n"
     ]
    }
   ],
   "source": [
    "# état initial (réparti uniformément sur les colonnies)\n",
    "N = np.full((nb_stations,nb_stations), int(nb_velos/(nb_stations**2)))\n",
    "\n",
    "#N = randint(0,int(nb_velos/(nb_stations**2)) + 1,(nb_stations, nb_stations))\n",
    "#N[nb_stations-1, nb_stations-1] = nb_stations - sum(N) - N[nb_stations-1, nb_stations-1] \n",
    "\n",
    "print(A(N))"
   ]
  },
  {
   "cell_type": "code",
   "execution_count": null,
   "metadata": {},
   "outputs": [],
   "source": [
    "horizon=20\n",
    "temps=0\n",
    "\n",
    "while temps <= horizon :\n",
    "    duree = -1/A(N) * log(rand())\n",
    "    # prochaine transition ?\n",
    "    \n",
    "\n"
   ]
  },
  {
   "cell_type": "code",
   "execution_count": 13,
   "metadata": {},
   "outputs": [
    {
     "name": "stdout",
     "output_type": "stream",
     "text": [
      "0.5413503559189221\n"
     ]
    }
   ],
   "source": [
    "rho=0.5\n",
    "horizon=10000\n",
    "temps=0\n",
    "N=0\n",
    "K=int(np.trunc(log(0.001)/log(rho)))+1\n",
    "proba_stat=np.zeros(K+1)\n",
    "nb_moyen_clients=0\n",
    "\n",
    "def transitions(N): \n",
    "    if (N==0):\n",
    "        return([rho,[1],[1]]) \n",
    "    else:\n",
    "        return([rho+1,[N-1,N+1],[1/(rho+1),rho/(rho+1)]])\n",
    "\n",
    "while(temps<= horizon): a = transitions(N)\n",
    "#\n",
    "#\n",
    "print N,a\n",
    "duree=np.random.exponential(1/a[0])\n",
    "temps += duree\n",
    "proba_stat[min(N,K)]+= duree\n",
    "N=np.random.choice(a[1],p=a[2])\n",
    "print N\n",
    "proba_stat =proba_stat/horizon\n",
    "pylab.clf()\n",
    "pylab.bar(np.arange(K+1),proba_stat)\n",
    "pylab.plot(np.arange(K+1),(1-rho)*rho**np.arange(K+1),color='red')\n",
    "pylab.savefig('geometric')"
   ]
  }
 ],
 "metadata": {
  "kernelspec": {
   "display_name": "Python 3",
   "language": "python",
   "name": "python3"
  },
  "language_info": {
   "codemirror_mode": {
    "name": "ipython",
    "version": 3
   },
   "file_extension": ".py",
   "mimetype": "text/x-python",
   "name": "python",
   "nbconvert_exporter": "python",
   "pygments_lexer": "ipython3",
   "version": "3.10.2"
  },
  "orig_nbformat": 4,
  "vscode": {
   "interpreter": {
    "hash": "aee8b7b246df8f9039afb4144a1f6fd8d2ca17a180786b69acc140d282b71a49"
   }
  }
 },
 "nbformat": 4,
 "nbformat_minor": 2
}
