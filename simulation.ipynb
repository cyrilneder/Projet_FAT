{
 "cells": [
  {
   "attachments": {},
   "cell_type": "markdown",
   "metadata": {},
   "source": [
    "# Projet Files d'Attentes\n",
    "\n",
    "Cyril Nederveen et Mathis Brichet\n",
    "\n",
    "## Modélisation\n",
    "\n",
    "On considère un système de vélos partagés, type Vélib, où les vélos sont disponibles dans des stations sont empruntés pour faire des trajets uniquement d’une station à une autre. La capacité des stations est supposée illimitée pour l’accueil (on peut toujours rendre le vélo).\n",
    "\n",
    "Ces hypothèses nous permettent de modéliser ce problème par un modèle de colonies. On considère une colonie par station et une colonie par trajet possible entre les stations. Notons $V$ le nombre de vélos considérés pour notre système et $S$ le nombre de stations considérées.\n",
    "\n",
    "On note alors, pour $i,j \\in \\{1, ..., S\\}^2, i \\ne j$ :\n",
    " - $n_{ii}$ le nombre de vélos en attente dans la station $i$\n",
    " - $\\mu_{ii}$ le taux de départ des vélos de la station $i$ (paramètre de la loi exponentielle régissant la demande) \n",
    " - $n_{ij}$ le nombre de vélos en trajet entre les stations $i$ et $j$\n",
    " - $\\mu_{ij}$ le temps de trajet moyen entre la station $i$ et la station $j$ (paramètre de la loi exponentielle régissant la durée)\n",
    " - $P_{ij}$ la probabilité qu'un utilisateur prenant un vélo à la station $i$ le rende à la station $j$"
   ]
  },
  {
   "cell_type": "code",
   "execution_count": null,
   "metadata": {},
   "outputs": [],
   "source": [
    "import numpy as np\n",
    "\n",
    "# Table des temps moyens de trajets (convertis en heures) (mu_ij pour i != j)\n",
    "Tps_trajets = 1/60 * np.array([[0, 3, 5, 7, 7],\n",
    "                               [2, 0, 2, 5, 5],\n",
    "                               [4, 2, 0, 3, 3], \n",
    "                               [8, 6, 4, 0, 2], \n",
    "                               [7, 7, 5, 2, 0]])\n",
    "\n",
    "# Table des taux de départs par heures (mu_ii)\n",
    "Taux_dep = [2.8, 3.7, 5.5, 3.5, 4.6]\n",
    "\n",
    "# Matrice de routage\n",
    "P = np.array([[0, 0.22, 0.32, 0.2, 0.25],\n",
    "              [0.17, 0, 0.34, 0.21, 0.28],\n",
    "              [0.19, 0.26, 0, 0.24, 0.31],\n",
    "              [0.17, 0.22, 0.33, 0, 0.28],\n",
    "              [0.18, 0.24, 0.35, 0.23, 0]])"
   ]
  },
  {
   "attachments": {},
   "cell_type": "markdown",
   "metadata": {},
   "source": [
    "Cela nous permet alors de définir $n = (n_{11}, n_{12}, ..., n_{SS})$ comme l'état de notre système.\n",
    "L'espace d'état peut alors se noter $E_{S,V} = \\{n \\in \\mathbb{N}^{SxS} \\: tq. \\: \\sum_{ij} n_{ij} = V \\}$, dont le cardinal est de l'ordre de $S^2V$.\n",
    "\n",
    "Définissons $T_{ij,kl}$ l'opérateur tel que $T_{ij,kl}n = n - e_{ij} + e_{kl}$, avec $e_{ij}$ le vecteur de la base canonique de $\\mathbb{N}^{SxS}$ d'indice $ij$. Nous notons alors $q(n, T_{ij,kl}n)$ le taux de transition entre $n$ et $T_{ij,kl}n$.  \n",
    "\n",
    "Seules les transitions du type $ij \\rightarrow jj$ ou $ii \\rightarrow ij$ sont possibles donc toutes les autres ont des taux égale à 0. De plus, dans chaque colonie, chaque memebre de la colonie possède sa propre \"horloge exponentielle\", ce qui nous ammène à la formule suivante pour le taux de transition : \n",
    "\n",
    "$\\forall i, j \\in \\{1, ..., S\\}^2, i \\ne j$\n",
    " - $q(n, T_{ij,jj}n) = \\mu_{ij}n_{ij} = \\lambda_{ij,jj}\\phi_{ij}(n_{ij})$ pour $\\mu_{ij} = \\lambda_{ij,jj}$ et $n_{ij} = \\phi_{ij}(n_{ij})$ \n",
    " - $q(n, T_{ii,ij}n) = P_{ij}\\mu_{ii}n_{ii} = \\lambda_{ii,ij}\\phi_{ii}(n_{ii})$ pour $P_{ij}\\mu_{ii} = \\lambda_{ii,ij}$ et $n_{ii} = \\phi_{ii}(n_{ii})$ "
   ]
  },
  {
   "cell_type": "code",
   "execution_count": 59,
   "metadata": {},
   "outputs": [
    {
     "name": "stdout",
     "output_type": "stream",
     "text": [
      "[[0.    0.616 0.896 0.56  0.7  ]\n",
      " [0.629 0.    1.258 0.777 1.036]\n",
      " [1.045 1.43  0.    1.32  1.705]\n",
      " [0.595 0.77  1.155 0.    0.98 ]\n",
      " [0.828 1.104 1.61  1.058 0.   ]]\n"
     ]
    },
    {
     "name": "stderr",
     "output_type": "stream",
     "text": [
      "/var/folders/hq/nz6rv6b136j0sk_knhths__w0000gn/T/ipykernel_53475/4218666887.py:2: RuntimeWarning: divide by zero encountered in true_divide\n",
      "  Ta = 1/Tps_trajets\n"
     ]
    }
   ],
   "source": [
    "# Matrice des taux de type arrivée (1/Tps_trajets_ij)\n",
    "Ta = 1/Tps_trajets\n",
    "np.fill_diagonal(Ta, 0)\n",
    "print(Ta)\n",
    "\n",
    "# Matrice des taux de type départ (P_ij * Taux de départ_i)\n",
    "Td = np.multiply(Taux_dep, P.T).T\n",
    "print(Td)"
   ]
  },
  {
   "attachments": {},
   "cell_type": "markdown",
   "metadata": {},
   "source": [
    "Cette modélisation en colonies possède une probabilité stationnaire de la forme suivante :\n",
    "\n",
    "$\\pi(n) = \\frac{1}{G} \\prod_{i \\ne j} \\frac{\\alpha_{ij}^{n_{ij}}}{n_{ij}!}$\n",
    "\n",
    "\n",
    "### Question 1\n",
    "\n",
    "Les équations de traffic nous permettent d'obtenir les relations entre les $\\lambda_{ij,kl}$ et les $\\alpha_{ij}$ de la probabilité stationnaire. celles-ci sont de la forme suivante pour notre modèle :\n",
    "\n",
    "$\\forall i, j \\in \\{1, ..., S\\}^2$, $\\alpha_{ij} \\sum_{kl} \\lambda_{ij,kl} = \\sum_{kl} \\alpha_{kl} \\lambda_{kl,ij}$\n",
    "\n",
    "\n",
    "### Question 2\n",
    "\n",
    "Pour 1 vélo, le cardinal de notre espace d'état est de $S^2 = 25$\n",
    "\n",
    "### Question 3\n",
    "\n",
    "Pour résoudre numériquement le système d’équations donnant les $\\alpha_{ij}$, on met le système sous forme de calcul matriciel $M\\alpha = X$ où $\\alpha$ est le vecteur colonne des $\\alpha_{ij}$ et où l'on à remplacer une ligne de M par des 1 (n+1 équations pour n inconnues si on ajoute la condition de normalisation). On a alors α = M−1X. "
   ]
  },
  {
   "cell_type": "code",
   "execution_count": null,
   "metadata": {},
   "outputs": [],
   "source": [
    "# Calcul de la probabilité stationnaire\n",
    "\n",
    "def lambda(i,j,k,l):\n",
    "    return 0"
   ]
  },
  {
   "attachments": {},
   "cell_type": "markdown",
   "metadata": {},
   "source": [
    "## Simulateur de notre système"
   ]
  },
  {
   "cell_type": "code",
   "execution_count": null,
   "metadata": {},
   "outputs": [],
   "source": [
    "# Code du simultauer"
   ]
  },
  {
   "attachments": {},
   "cell_type": "markdown",
   "metadata": {},
   "source": [
    "## Simulation pour 1 vélo"
   ]
  },
  {
   "cell_type": "code",
   "execution_count": null,
   "metadata": {},
   "outputs": [],
   "source": [
    "# Simulation pour 1 vélo"
   ]
  },
  {
   "attachments": {},
   "cell_type": "markdown",
   "metadata": {},
   "source": [
    "### Question 4\n",
    "\n",
    "Nous remarquons ici que notre simulation nous permet d'obtenir une approximation précise de la probabilité stationnaire."
   ]
  },
  {
   "attachments": {},
   "cell_type": "markdown",
   "metadata": {},
   "source": [
    "## Simulation pour 50 vélos\n",
    "\n",
    "### Question 5 \n",
    "\n",
    "Dans ce cas, le cardinal de l'espace d'état est de l'ordre de $S^2V = 1250$. Devant un nombre d'états aussi important, la simulation semble être la seule solution envisageable pour calculer ces probabilités stationnaires."
   ]
  },
  {
   "cell_type": "code",
   "execution_count": 5,
   "metadata": {},
   "outputs": [],
   "source": [
    "%matplotlib inline \n",
    "import scipy\n",
    "from pylab import* \n",
    "import pylab as pylab\n",
    "\n",
    "nb_stations = 5\n",
    "nb_velos = 50\n"
   ]
  },
  {
   "cell_type": "code",
   "execution_count": 66,
   "metadata": {},
   "outputs": [
    {
     "name": "stdout",
     "output_type": "stream",
     "text": [
      "0.98\n",
      "[0.         0.05557752 0.08892404 0.11274297 0.13656191 0.21992819\n",
      " 0.21992819 0.30329448 0.33664099 0.3699875  0.41167064 0.49503693\n",
      " 0.49503693 0.55061445 0.60619197 0.62703354 0.6548223  0.69650544\n",
      " 0.69650544 0.77987173 0.80369067 0.8275096  0.86085612 0.9442224\n",
      " 0.9442224  0.9442224  0.94593419 0.94842406 0.94998023 0.95192544\n",
      " 0.95367336 0.95367336 0.95716918 0.95932837 0.96220729 0.96511121\n",
      " 0.969085   0.969085   0.97275312 0.9774911  0.97914453 0.98128427\n",
      " 0.98449387 0.98449387 0.98721717 0.98951808 0.99258596 0.99705995\n",
      " 1.         1.        ]\n",
      "41\n",
      "('Départ', 3, 1)\n"
     ]
    }
   ],
   "source": [
    "Ntest = np.full((nb_stations,nb_stations), int(nb_velos/(nb_stations**2)))\n",
    "\n",
    "def transition(N):\n",
    "    #\n",
    "    A_arrivee = np.multiply(Ta, N).flatten()\n",
    "    A_depart = (np.multiply(np.diag(N), Td.T).T).flatten()\n",
    "\n",
    "    A_tot = np.concatenate([A_arrivee, A_depart])\n",
    "\n",
    "    r = np.cumsum(A_tot)/np.sum(A_tot)\n",
    "\n",
    "    u = 0.98 #rand()\n",
    "    w = 0\n",
    "\n",
    "    while u > r[w]:\n",
    "        w+=1\n",
    "\n",
    "    print(u)\n",
    "    print(r)\n",
    "    print(w)\n",
    "    # Transition de type arrivée\n",
    "    if w < nb_stations**2 :\n",
    "        return \"Arrivée\", w//nb_stations, w%nb_stations\n",
    "    \n",
    "    # Transition de type départ\n",
    "    else : \n",
    "        w -= nb_stations**2\n",
    "        return \"Départ\", w//nb_stations, w%nb_stations\n",
    "    \n",
    "print(transition(Ntest))\n",
    "# Paramètre de la loi expo du temps de séjour en un état n\n",
    "def A(N):\n",
    "    A_N = 0\n",
    "    for i in range(nb_stations):\n",
    "        for j in range(i+1, nb_stations):\n",
    "            A_N += N[i,j]/Tps_trajets[i,j] + N[j,i]/Tps_trajets[j,i] + P[i,j] * N[i,i]*P[i,j]*Taux_dep[i] + N[j,j]*P[j,i]*Taux_dep[j]\n",
    "    return A_N"
   ]
  },
  {
   "cell_type": "code",
   "execution_count": 39,
   "metadata": {},
   "outputs": [
    {
     "name": "stdout",
     "output_type": "stream",
     "text": [
      "705.4393485714286\n"
     ]
    }
   ],
   "source": [
    "# état initial (réparti uniformément sur les colonnies)\n",
    "N = np.full((nb_stations,nb_stations), int(nb_velos/(nb_stations**2)))\n",
    "\n",
    "#N = randint(0,int(nb_velos/(nb_stations**2)) + 1,(nb_stations, nb_stations))\n",
    "#N[nb_stations-1, nb_stations-1] = nb_stations - sum(N) - N[nb_stations-1, nb_stations-1] \n",
    "\n",
    "print(A(N))"
   ]
  },
  {
   "cell_type": "code",
   "execution_count": null,
   "metadata": {},
   "outputs": [],
   "source": [
    "horizon=20\n",
    "temps=0\n",
    "\n",
    "while temps <= horizon :\n",
    "    duree = -1/A(N) * log(rand())\n",
    "    # prochaine transition ?\n",
    "    \n",
    "\n"
   ]
  },
  {
   "cell_type": "code",
   "execution_count": 13,
   "metadata": {},
   "outputs": [
    {
     "name": "stdout",
     "output_type": "stream",
     "text": [
      "0.5413503559189221\n"
     ]
    }
   ],
   "source": [
    "rho=0.5\n",
    "horizon=10000\n",
    "temps=0\n",
    "N=0\n",
    "K=int(np.trunc(log(0.001)/log(rho)))+1\n",
    "proba_stat=np.zeros(K+1)\n",
    "nb_moyen_clients=0\n",
    "\n",
    "def transitions(N): \n",
    "    if (N==0):\n",
    "        return([rho,[1],[1]]) \n",
    "    else:\n",
    "        return([rho+1,[N-1,N+1],[1/(rho+1),rho/(rho+1)]])\n",
    "\n",
    "while(temps<= horizon): a = transitions(N)\n",
    "#\n",
    "#\n",
    "print N,a\n",
    "duree=np.random.exponential(1/a[0])\n",
    "temps += duree\n",
    "proba_stat[min(N,K)]+= duree\n",
    "N=np.random.choice(a[1],p=a[2])\n",
    "print N\n",
    "proba_stat =proba_stat/horizon\n",
    "pylab.clf()\n",
    "pylab.bar(np.arange(K+1),proba_stat)\n",
    "pylab.plot(np.arange(K+1),(1-rho)*rho**np.arange(K+1),color='red')\n",
    "pylab.savefig('geometric')"
   ]
  }
 ],
 "metadata": {
  "kernelspec": {
   "display_name": "Python 3",
   "language": "python",
   "name": "python3"
  },
  "language_info": {
   "codemirror_mode": {
    "name": "ipython",
    "version": 3
   },
   "file_extension": ".py",
   "mimetype": "text/x-python",
   "name": "python",
   "nbconvert_exporter": "python",
   "pygments_lexer": "ipython3",
   "version": "3.10.2"
  },
  "orig_nbformat": 4,
  "vscode": {
   "interpreter": {
    "hash": "aee8b7b246df8f9039afb4144a1f6fd8d2ca17a180786b69acc140d282b71a49"
   }
  }
 },
 "nbformat": 4,
 "nbformat_minor": 2
}
